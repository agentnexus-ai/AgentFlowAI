{
 "cells": [
  {
   "cell_type": "code",
   "execution_count": null,
   "id": "4e14ef4c098022de",
   "metadata": {
    "ExecuteTime": {
     "start_time": "2024-05-15T04:22:18.877925Z"
    },
    "collapsed": false,
    "jupyter": {
     "outputs_hidden": false
    }
   },
   "outputs": [],
   "source": [
    "!pip install agency-swarm selenium webdriver-manager selenium_stealth gradio"
   ]
  },
  {
   "cell_type": "markdown",
   "id": "936f950c-5d30-4985-b5c2-6a4e26d82a8a",
   "metadata": {
    "collapsed": false,
    "jupyter": {
     "outputs_hidden": false
    }
   },
   "source": [
    "# Basic Single Browsing Agent"
   ]
  },
  {
   "cell_type": "code",
   "execution_count": 1,
   "id": "d0586b684514e713",
   "metadata": {
    "ExecuteTime": {
     "end_time": "2024-05-15T06:47:49.107691Z",
     "start_time": "2024-05-15T06:47:45.358107Z"
    },
    "collapsed": false,
    "jupyter": {
     "outputs_hidden": false
    }
   },
   "outputs": [
    {
     "name": "stdout",
     "output_type": "stream",
     "text": [
      "Files folder '/Users/vrsen/Projects/agency-swarm/agency-swarm/agency_swarm/agents/BrowsingAgent/files' is not a directory. Skipping...\n",
      "Schemas folder path is not a directory. Skipping...  /Users/vrsen/Projects/agency-swarm/agency-swarm/agency_swarm/agents/BrowsingAgent/schemas\n",
      "Updating assistant... BrowsingAgent\n",
      "Running on local URL:  http://127.0.0.1:7860\n",
      "IMPORTANT: You are using gradio version 4.21.0, however version 4.29.0 is available, please upgrade.\n",
      "--------\n",
      "\n",
      "To create a public link, set `share=True` in `launch()`.\n"
     ]
    },
    {
     "data": {
      "text/html": [
       "<div><iframe src=\"http://127.0.0.1:7860/\" width=\"100%\" height=\"500\" allow=\"autoplay; camera; microphone; clipboard-read; clipboard-write;\" frameborder=\"0\" allowfullscreen></iframe></div>"
      ],
      "text/plain": [
       "<IPython.core.display.HTML object>"
      ]
     },
     "metadata": {},
     "output_type": "display_data"
    },
    {
     "name": "stdout",
     "output_type": "stream",
     "text": [
      "Message files:  []\n",
      "THREAD:[ user -> BrowsingAgent ]: URL https://platform.openai.com/playground/assistants?assistant=asst_NDddvs0pmyGfwNAAjn6Cx7vj&mode=assistant&thread=thread_Ix7CUseVGy9zasYhC1IpKHcF\n",
      "Initializing WebDriver...\n",
      "Selenium imported successfully.\n",
      "webdriver_manager imported successfully.\n",
      "selenium_stealth imported successfully.\n",
      "ChromeOptions initialized.\n",
      "ChromeDriver not found at /usr/bin/chromedriver. Installing using webdriver_manager.\n",
      "Window size set to 1920,1080.\n",
      "Chrome options configured.\n",
      "WebDriver initialized successfully.\n",
      "Profile path in use: /var/folders/y3/_zvpts1x6_5gsh98xj0xp2rc0000gn/T/.org.chromium.Chromium.YLUkTD\n",
      "Stealth mode configured.\n",
      "Implicit wait set to 3 seconds.\n",
      "Initializing WebDriver...\n",
      "Selenium imported successfully.\n",
      "webdriver_manager imported successfully.\n",
      "selenium_stealth imported successfully.\n",
      "Returning existing WebDriver instance.\n",
      "Initializing WebDriver...\n",
      "Selenium imported successfully.\n",
      "webdriver_manager imported successfully.\n",
      "selenium_stealth imported successfully.\n",
      "Returning existing WebDriver instance.\n",
      "Message files:  []\n",
      "THREAD:[ user -> BrowsingAgent ]: URL https://platform.openai.com/playground/assistants?assistant=asst_NDddvs0pmyGfwNAAjn6Cx7vj&mode=assistant&thread=thread_Ix7CUseVGy9zasYhC1IpKHcF\n",
      "Initializing WebDriver...\n",
      "Selenium imported successfully.\n",
      "webdriver_manager imported successfully.\n",
      "selenium_stealth imported successfully.\n",
      "Returning existing WebDriver instance.\n",
      "Initializing WebDriver...\n",
      "Selenium imported successfully.\n",
      "webdriver_manager imported successfully.\n",
      "selenium_stealth imported successfully.\n",
      "Returning existing WebDriver instance.\n",
      "Initializing WebDriver...\n",
      "Selenium imported successfully.\n",
      "webdriver_manager imported successfully.\n",
      "selenium_stealth imported successfully.\n",
      "Returning existing WebDriver instance.\n",
      "Initializing WebDriver...\n",
      "Selenium imported successfully.\n",
      "webdriver_manager imported successfully.\n",
      "selenium_stealth imported successfully.\n",
      "Returning existing WebDriver instance.\n",
      "Initializing WebDriver...\n",
      "Selenium imported successfully.\n",
      "webdriver_manager imported successfully.\n",
      "selenium_stealth imported successfully.\n",
      "Returning existing WebDriver instance.\n",
      "Initializing WebDriver...\n",
      "Selenium imported successfully.\n",
      "webdriver_manager imported successfully.\n",
      "selenium_stealth imported successfully.\n",
      "Returning existing WebDriver instance.\n",
      "Message files:  []\n",
      "THREAD:[ user -> BrowsingAgent ]: URL https://platform.openai.com/playground/assistants?assistant=asst_NDddvs0pmyGfwNAAjn6Cx7vj&mode=assistant&thread=thread_Ix7CUseVGy9zasYhC1IpKHcF\n",
      "Initializing WebDriver...\n",
      "Selenium imported successfully.\n",
      "webdriver_manager imported successfully.\n",
      "selenium_stealth imported successfully.\n",
      "Returning existing WebDriver instance.\n",
      "Initializing WebDriver...\n",
      "Selenium imported successfully.\n",
      "webdriver_manager imported successfully.\n",
      "selenium_stealth imported successfully.\n",
      "Returning existing WebDriver instance.\n",
      "Initializing WebDriver...\n",
      "Selenium imported successfully.\n",
      "webdriver_manager imported successfully.\n",
      "selenium_stealth imported successfully.\n",
      "Returning existing WebDriver instance.\n",
      "Initializing WebDriver...\n",
      "Selenium imported successfully.\n",
      "webdriver_manager imported successfully.\n",
      "selenium_stealth imported successfully.\n",
      "Returning existing WebDriver instance.\n",
      "Initializing WebDriver...\n",
      "Selenium imported successfully.\n",
      "webdriver_manager imported successfully.\n",
      "selenium_stealth imported successfully.\n",
      "Returning existing WebDriver instance.\n",
      "Initializing WebDriver...\n",
      "Selenium imported successfully.\n",
      "webdriver_manager imported successfully.\n",
      "selenium_stealth imported successfully.\n",
      "Returning existing WebDriver instance.\n",
      "Message files:  []\n",
      "THREAD:[ user -> BrowsingAgent ]: URL https://platform.openai.com/playground/assistants?assistant=asst_NDddvs0pmyGfwNAAjn6Cx7vj&mode=assistant&thread=thread_Ix7CUseVGy9zasYhC1IpKHcF\n",
      "Initializing WebDriver...\n",
      "Selenium imported successfully.\n",
      "webdriver_manager imported successfully.\n",
      "selenium_stealth imported successfully.\n",
      "Returning existing WebDriver instance.\n",
      "Initializing WebDriver...\n",
      "Selenium imported successfully.\n",
      "webdriver_manager imported successfully.\n",
      "selenium_stealth imported successfully.\n",
      "Returning existing WebDriver instance.\n",
      "Initializing WebDriver...\n",
      "Selenium imported successfully.\n",
      "webdriver_manager imported successfully.\n",
      "selenium_stealth imported successfully.\n",
      "Returning existing WebDriver instance.\n",
      "Initializing WebDriver...\n",
      "Selenium imported successfully.\n",
      "webdriver_manager imported successfully.\n",
      "selenium_stealth imported successfully.\n",
      "Returning existing WebDriver instance.\n",
      "Message files:  []\n",
      "THREAD:[ user -> BrowsingAgent ]: URL https://platform.openai.com/playground/assistants?assistant=asst_NDddvs0pmyGfwNAAjn6Cx7vj&mode=assistant&thread=thread_Ix7CUseVGy9zasYhC1IpKHcF\n",
      "Initializing WebDriver...\n",
      "Selenium imported successfully.\n",
      "webdriver_manager imported successfully.\n",
      "selenium_stealth imported successfully.\n",
      "Returning existing WebDriver instance.\n",
      "Initializing WebDriver...\n",
      "Selenium imported successfully.\n",
      "webdriver_manager imported successfully.\n",
      "selenium_stealth imported successfully.\n",
      "Returning existing WebDriver instance.\n",
      "Initializing WebDriver...\n",
      "Selenium imported successfully.\n",
      "webdriver_manager imported successfully.\n",
      "selenium_stealth imported successfully.\n",
      "Returning existing WebDriver instance.\n",
      "Initializing WebDriver...\n",
      "Selenium imported successfully.\n",
      "webdriver_manager imported successfully.\n",
      "selenium_stealth imported successfully.\n",
      "Returning existing WebDriver instance.\n",
      "Initializing WebDriver...\n",
      "Selenium imported successfully.\n",
      "webdriver_manager imported successfully.\n",
      "selenium_stealth imported successfully.\n",
      "Returning existing WebDriver instance.\n",
      "Initializing WebDriver...\n",
      "Selenium imported successfully.\n",
      "webdriver_manager imported successfully.\n",
      "selenium_stealth imported successfully.\n",
      "Returning existing WebDriver instance.\n",
      "Initializing WebDriver...\n",
      "Selenium imported successfully.\n",
      "webdriver_manager imported successfully.\n",
      "selenium_stealth imported successfully.\n",
      "Returning existing WebDriver instance.\n",
      "Initializing WebDriver...\n",
      "Selenium imported successfully.\n",
      "webdriver_manager imported successfully.\n",
      "selenium_stealth imported successfully.\n",
      "Returning existing WebDriver instance.\n",
      "Initializing WebDriver...\n",
      "Selenium imported successfully.\n",
      "webdriver_manager imported successfully.\n",
      "selenium_stealth imported successfully.\n",
      "Returning existing WebDriver instance.\n",
      "Initializing WebDriver...\n",
      "Selenium imported successfully.\n",
      "webdriver_manager imported successfully.\n",
      "selenium_stealth imported successfully.\n",
      "Returning existing WebDriver instance.\n",
      "Initializing WebDriver...\n",
      "Selenium imported successfully.\n",
      "webdriver_manager imported successfully.\n",
      "selenium_stealth imported successfully.\n",
      "Returning existing WebDriver instance.\n",
      "Initializing WebDriver...\n",
      "Selenium imported successfully.\n",
      "webdriver_manager imported successfully.\n",
      "selenium_stealth imported successfully.\n",
      "Returning existing WebDriver instance.\n",
      "Initializing WebDriver...\n",
      "Selenium imported successfully.\n",
      "webdriver_manager imported successfully.\n",
      "selenium_stealth imported successfully.\n",
      "Returning existing WebDriver instance.\n",
      "Initializing WebDriver...\n",
      "Selenium imported successfully.\n",
      "webdriver_manager imported successfully.\n",
      "selenium_stealth imported successfully.\n",
      "Returning existing WebDriver instance.\n",
      "Message files:  []\n",
      "THREAD:[ user -> BrowsingAgent ]: URL https://platform.openai.com/playground/assistants?assistant=asst_NDddvs0pmyGfwNAAjn6Cx7vj&mode=assistant&thread=thread_Ix7CUseVGy9zasYhC1IpKHcF\n"
     ]
    }
   ],
   "source": [
    "from agency_swarm.agents import BrowsingAgent, Devid\n",
    "from agency_swarm import Agency, Agent\n",
    "\n",
    "selenium_config = {\n",
    "    # your canary profile path\n",
    "    # \"chrome_profile_path\": \"/Users/vrsen/Library/Application Support/Google/Chrome Canary/Profile 1\",\n",
    "    \"headless\": False,\n",
    "    \"full_page_screenshot\": False,\n",
    "}\n",
    "\n",
    "browsing_agent = BrowsingAgent(selenium_config=selenium_config)\n",
    "\n",
    "agency = Agency([browsing_agent])\n",
    "\n",
    "demo = agency.demo_gradio(height=700) # reload the notebook each time you run this cell"
   ]
  },
  {
   "cell_type": "code",
   "execution_count": null,
   "id": "6decc2caf79dc22d",
   "metadata": {
    "collapsed": false,
    "jupyter": {
     "outputs_hidden": false
    }
   },
   "outputs": [],
   "source": [
    "demo.close()"
   ]
  },
  {
   "cell_type": "markdown",
   "id": "adf41fcb-64d4-4759-9c10-a6504c0ff001",
   "metadata": {
    "collapsed": false,
    "jupyter": {
     "outputs_hidden": false
    }
   },
   "source": [
    "# Creating Your Own Browsing Swarm"
   ]
  },
  {
   "cell_type": "code",
   "execution_count": 1,
   "id": "a6eca041305cce5a",
   "metadata": {
    "collapsed": false,
    "jupyter": {
     "outputs_hidden": false
    }
   },
   "outputs": [],
   "source": [
    "from agency_swarm.agents import BrowsingAgent\n",
    "from agency_swarm import Agency, Agent"
   ]
  },
  {
   "cell_type": "code",
   "execution_count": 2,
   "id": "55d911e7d32a509c",
   "metadata": {
    "collapsed": false,
    "jupyter": {
     "outputs_hidden": false
    }
   },
   "outputs": [],
   "source": [
    "report_manager = Agent(name=\"Report Manager\",\n",
    "            description=\"The Report Manager Agent is responsible for supervising data collection from various weather websites and compiling reports as necessary.\",\n",
    "            instructions=\"As a Report Manager Agent, your role involves direct interaction and oversight of the BrowsingAgent's operations. Your primary duty is to guarantee that the user's task is comprehensively and accurately completed. Achieve this by methodically breaking down each task from the user into smaller steps required to complete it. Then, issue each step of the task as a distinct message to the BrowsingAgent. Make sure to always tell the browsing agent to go back to google search results before proceeding to the the next source. After the necessary data is collection, compile a report and send it to the user. Make sure to ask the browsing agent for direct links to the sources and include them into report. Try to trouble shoot any issues that may arise along the way with the other agents first, before reporting back to the user. Do not respond to the user until the report is complete or you have encountered an issue that you cannot resolve yourself.\")"
   ]
  },
  {
   "cell_type": "code",
   "execution_count": 3,
   "id": "2215c629454380d1",
   "metadata": {
    "collapsed": false,
    "jupyter": {
     "outputs_hidden": false
    }
   },
   "outputs": [
    {
     "name": "stdout",
     "output_type": "stream",
     "text": [
      "Files folder '/Users/vrsen/Projects/agency-swarm/agency-swarm/agency_swarm/agents/BrowsingAgent/files' is not a directory. Skipping...\n",
      "Schemas folder path is not a directory. Skipping...  /Users/vrsen/Projects/agency-swarm/agency-swarm/agency_swarm/agents/BrowsingAgent/schemas\n"
     ]
    }
   ],
   "source": [
    "selenium_config = {\n",
    "    # your canary profile path\n",
    "    \"chrome_profile_path\": \"/Users/vrsen/Library/Application Support/Google/Chrome/Profile 1\",\n",
    "    \"headless\": False,\n",
    "    \"full_page_screenshot\": False,\n",
    "}\n",
    "\n",
    "browsing_agent = BrowsingAgent(selenium_config=selenium_config)"
   ]
  },
  {
   "cell_type": "code",
   "execution_count": 4,
   "id": "6fcafb1fdf523943",
   "metadata": {
    "collapsed": false,
    "jupyter": {
     "outputs_hidden": false
    }
   },
   "outputs": [
    {
     "name": "stdout",
     "output_type": "stream",
     "text": [
      "Updating assistant... Report Manager\n",
      "Updating assistant... BrowsingAgent\n"
     ]
    }
   ],
   "source": [
    "agency = Agency([report_manager,\n",
    "                 [report_manager, browsing_agent]],\n",
    "                shared_instructions=\"You are a part of a data collection agency with the goal to find the most relevant information about people on the web. Your core value is autonomy and you are free to use any means necessary to achieve your goal. You do not stop until you have found the information you need or you have exhausted all possible means. You always to to compile a comprehensive report with as much information from the web pages as possible.\")"
   ]
  },
  {
   "cell_type": "markdown",
   "id": "5cbf60b8-6d09-4995-aa29-3f6a89e13778",
   "metadata": {
    "collapsed": false,
    "jupyter": {
     "outputs_hidden": false
    }
   },
   "source": [
    "Reload the notebook each time you run the cell below"
   ]
  },
  {
   "cell_type": "code",
   "execution_count": 5,
   "id": "6e622ad186d4fef8",
   "metadata": {
    "collapsed": false,
    "jupyter": {
     "outputs_hidden": false
    }
   },
   "outputs": [
    {
     "name": "stdout",
     "output_type": "stream",
     "text": [
      "Running on local URL:  http://127.0.0.1:7860\n",
      "IMPORTANT: You are using gradio version 4.21.0, however version 4.29.0 is available, please upgrade.\n",
      "--------\n",
      "\n",
      "To create a public link, set `share=True` in `launch()`.\n"
     ]
    },
    {
     "data": {
      "text/html": [
       "<div><iframe src=\"http://127.0.0.1:7860/\" width=\"100%\" height=\"500\" allow=\"autoplay; camera; microphone; clipboard-read; clipboard-write;\" frameborder=\"0\" allowfullscreen></iframe></div>"
      ],
      "text/plain": [
       "<IPython.core.display.HTML object>"
      ]
     },
     "metadata": {},
     "output_type": "display_data"
    },
    {
     "name": "stdout",
     "output_type": "stream",
     "text": [
      "Message files:  []\n",
      "THREAD:[ user -> Report Manager ]: URL https://platform.openai.com/playground/assistants?assistant=asst_HRMYJ9tA8t6SszeUEuCEGGf3&mode=assistant&thread=thread_vNp6t4FUrtsKaghPBYIDAMht\n",
      "THREAD:[ Report Manager -> BrowsingAgent ]: URL https://platform.openai.com/playground/assistants?assistant=asst_NDddvs0pmyGfwNAAjn6Cx7vj&mode=assistant&thread=thread_Yv62axq13i2w9dBUC6NtK6F1\n",
      "Initializing WebDriver...\n",
      "Selenium imported successfully.\n",
      "webdriver_manager imported successfully.\n",
      "selenium_stealth imported successfully.\n",
      "Using Chrome profile: Profile 1\n",
      "Using Chrome user data dir: /Users/vrsen/Library/Application Support/Google/Chrome\n",
      "Using Chrome profile path: /Users/vrsen/Library/Application Support/Google/Chrome/Profile 1\n",
      "ChromeOptions initialized.\n",
      "ChromeDriver not found at /usr/bin/chromedriver. Installing using webdriver_manager.\n",
      "Window size set to 1920,1080.\n",
      "Chrome options configured.\n",
      "Using user data dir: /Users/vrsen/Library/Application Support/Google/Chrome and profile directory: Profile 1\n",
      "WebDriver initialized successfully.\n",
      "Profile path in use: /Users/vrsen/Library/Application Support/Google/Chrome\n",
      "Implicit wait set to 3 seconds.\n",
      "Initializing WebDriver...\n",
      "Selenium imported successfully.\n",
      "webdriver_manager imported successfully.\n",
      "selenium_stealth imported successfully.\n",
      "Returning existing WebDriver instance.\n",
      "Initializing WebDriver...\n",
      "Selenium imported successfully.\n",
      "webdriver_manager imported successfully.\n",
      "selenium_stealth imported successfully.\n",
      "Returning existing WebDriver instance.\n",
      "Initializing WebDriver...\n",
      "Selenium imported successfully.\n",
      "webdriver_manager imported successfully.\n",
      "selenium_stealth imported successfully.\n",
      "Returning existing WebDriver instance.\n",
      "Initializing WebDriver...\n",
      "Selenium imported successfully.\n",
      "webdriver_manager imported successfully.\n",
      "selenium_stealth imported successfully.\n",
      "Returning existing WebDriver instance.\n",
      "Initializing WebDriver...\n",
      "Selenium imported successfully.\n",
      "webdriver_manager imported successfully.\n",
      "selenium_stealth imported successfully.\n",
      "Returning existing WebDriver instance.\n",
      "Initializing WebDriver...\n",
      "Selenium imported successfully.\n",
      "webdriver_manager imported successfully.\n",
      "selenium_stealth imported successfully.\n",
      "Returning existing WebDriver instance.\n",
      "Initializing WebDriver...\n",
      "Selenium imported successfully.\n",
      "webdriver_manager imported successfully.\n",
      "selenium_stealth imported successfully.\n",
      "Returning existing WebDriver instance.\n",
      "Initializing WebDriver...\n",
      "Selenium imported successfully.\n",
      "webdriver_manager imported successfully.\n",
      "selenium_stealth imported successfully.\n",
      "Returning existing WebDriver instance.\n",
      "THREAD:[ Report Manager -> BrowsingAgent ]: URL https://platform.openai.com/playground/assistants?assistant=asst_NDddvs0pmyGfwNAAjn6Cx7vj&mode=assistant&thread=thread_Yv62axq13i2w9dBUC6NtK6F1\n",
      "Initializing WebDriver...\n",
      "Selenium imported successfully.\n",
      "webdriver_manager imported successfully.\n",
      "selenium_stealth imported successfully.\n",
      "Returning existing WebDriver instance.\n",
      "Initializing WebDriver...\n",
      "Selenium imported successfully.\n",
      "webdriver_manager imported successfully.\n",
      "selenium_stealth imported successfully.\n",
      "Returning existing WebDriver instance.\n",
      "Initializing WebDriver...\n",
      "Selenium imported successfully.\n",
      "webdriver_manager imported successfully.\n",
      "selenium_stealth imported successfully.\n",
      "Returning existing WebDriver instance.\n",
      "Initializing WebDriver...\n",
      "Selenium imported successfully.\n",
      "webdriver_manager imported successfully.\n",
      "selenium_stealth imported successfully.\n",
      "Returning existing WebDriver instance.\n",
      "Initializing WebDriver...\n",
      "Selenium imported successfully.\n",
      "webdriver_manager imported successfully.\n",
      "selenium_stealth imported successfully.\n",
      "Returning existing WebDriver instance.\n",
      "Initializing WebDriver...\n",
      "Selenium imported successfully.\n",
      "webdriver_manager imported successfully.\n",
      "selenium_stealth imported successfully.\n",
      "Returning existing WebDriver instance.\n",
      "Initializing WebDriver...\n",
      "Selenium imported successfully.\n",
      "webdriver_manager imported successfully.\n",
      "selenium_stealth imported successfully.\n",
      "Returning existing WebDriver instance.\n",
      "THREAD:[ Report Manager -> BrowsingAgent ]: URL https://platform.openai.com/playground/assistants?assistant=asst_NDddvs0pmyGfwNAAjn6Cx7vj&mode=assistant&thread=thread_Yv62axq13i2w9dBUC6NtK6F1\n",
      "Initializing WebDriver...\n",
      "Selenium imported successfully.\n",
      "webdriver_manager imported successfully.\n",
      "selenium_stealth imported successfully.\n",
      "Returning existing WebDriver instance.\n",
      "Initializing WebDriver...\n",
      "Selenium imported successfully.\n",
      "webdriver_manager imported successfully.\n",
      "selenium_stealth imported successfully.\n",
      "Returning existing WebDriver instance.\n",
      "Initializing WebDriver...\n",
      "Selenium imported successfully.\n",
      "webdriver_manager imported successfully.\n",
      "selenium_stealth imported successfully.\n",
      "Returning existing WebDriver instance.\n",
      "Initializing WebDriver...\n",
      "Selenium imported successfully.\n",
      "webdriver_manager imported successfully.\n",
      "selenium_stealth imported successfully.\n",
      "Returning existing WebDriver instance.\n",
      "Initializing WebDriver...\n",
      "Selenium imported successfully.\n",
      "webdriver_manager imported successfully.\n",
      "selenium_stealth imported successfully.\n",
      "Returning existing WebDriver instance.\n",
      "Initializing WebDriver...\n",
      "Selenium imported successfully.\n",
      "webdriver_manager imported successfully.\n",
      "selenium_stealth imported successfully.\n",
      "Returning existing WebDriver instance.\n",
      "THREAD:[ Report Manager -> BrowsingAgent ]: URL https://platform.openai.com/playground/assistants?assistant=asst_NDddvs0pmyGfwNAAjn6Cx7vj&mode=assistant&thread=thread_Yv62axq13i2w9dBUC6NtK6F1\n",
      "THREAD:[ Report Manager -> BrowsingAgent ]: URL https://platform.openai.com/playground/assistants?assistant=asst_NDddvs0pmyGfwNAAjn6Cx7vj&mode=assistant&thread=thread_Yv62axq13i2w9dBUC6NtK6F1\n",
      "Initializing WebDriver...\n",
      "Selenium imported successfully.\n",
      "webdriver_manager imported successfully.\n",
      "selenium_stealth imported successfully.\n",
      "Returning existing WebDriver instance.\n",
      "Initializing WebDriver...\n",
      "Selenium imported successfully.\n",
      "webdriver_manager imported successfully.\n",
      "selenium_stealth imported successfully.\n",
      "Returning existing WebDriver instance.\n",
      "Initializing WebDriver...\n",
      "Selenium imported successfully.\n",
      "webdriver_manager imported successfully.\n",
      "selenium_stealth imported successfully.\n",
      "Returning existing WebDriver instance.\n",
      "Initializing WebDriver...\n",
      "Selenium imported successfully.\n",
      "webdriver_manager imported successfully.\n",
      "selenium_stealth imported successfully.\n",
      "Returning existing WebDriver instance.\n",
      "Initializing WebDriver...\n",
      "Selenium imported successfully.\n",
      "webdriver_manager imported successfully.\n",
      "selenium_stealth imported successfully.\n",
      "Returning existing WebDriver instance.\n",
      "Initializing WebDriver...\n",
      "Selenium imported successfully.\n",
      "webdriver_manager imported successfully.\n",
      "selenium_stealth imported successfully.\n",
      "Returning existing WebDriver instance.\n",
      "THREAD:[ Report Manager -> BrowsingAgent ]: URL https://platform.openai.com/playground/assistants?assistant=asst_NDddvs0pmyGfwNAAjn6Cx7vj&mode=assistant&thread=thread_Yv62axq13i2w9dBUC6NtK6F1\n",
      "Initializing WebDriver...\n",
      "Selenium imported successfully.\n",
      "webdriver_manager imported successfully.\n",
      "selenium_stealth imported successfully.\n",
      "Returning existing WebDriver instance.\n",
      "THREAD:[ Report Manager -> BrowsingAgent ]: URL https://platform.openai.com/playground/assistants?assistant=asst_NDddvs0pmyGfwNAAjn6Cx7vj&mode=assistant&thread=thread_Yv62axq13i2w9dBUC6NtK6F1\n"
     ]
    }
   ],
   "source": [
    "demo = agency.demo_gradio(height=700)"
   ]
  },
  {
   "cell_type": "markdown",
   "id": "44024be8-679f-485d-8f67-cfa753e1cbe7",
   "metadata": {
    "collapsed": false,
    "jupyter": {
     "outputs_hidden": false
    }
   },
   "source": [
    "Compile a report on Arsenii Shatokhin from the top 3 sources on google"
   ]
  },
  {
   "cell_type": "code",
   "execution_count": null,
   "id": "25ce5ab2798e019b",
   "metadata": {
    "collapsed": false,
    "jupyter": {
     "outputs_hidden": false
    }
   },
   "outputs": [],
   "source": [
    "demo.close()"
   ]
  },
  {
   "cell_type": "markdown",
   "id": "92390579-db54-4bdc-99ca-ea7bb88738ec",
   "metadata": {
    "collapsed": false,
    "jupyter": {
     "outputs_hidden": false
    }
   },
   "source": [
    "Here are the instructions:\n",
    "1. Tell browsing agent to to https://www.youtube.com/results?search_query=ai+channels&sp=EgIQAg%253D%253D, which is a search results page for all channels on ai\n",
    "2. Click on channel link\n",
    "3. Click on more link near the channel description\n",
    "4. Check if channel has email address.\n",
    "5. If it doesn't, go back to step 2 and repeat for top 5 channels\n",
    "4. If it does, Click on view email address\n",
    "5. Solve captcha if required \n",
    "6. Copy email \n",
    "7. Repeat from step 1 for top 5 channels\n",
    "8. Send emails back to me"
   ]
  },
  {
   "cell_type": "markdown",
   "id": "ef1ce88d-cb60-47de-b9e5-d7abd231b0f5",
   "metadata": {
    "collapsed": false,
    "jupyter": {
     "outputs_hidden": false
    }
   },
   "source": [
    "# Breaking Captchas\n",
    "You can run this example with no additional configuration.\n",
    "\n",
    "However, to add your own cookies, go to `chrome://version/` Then copy Profile path folder and paste it into Chrome Canary installation folder. You might also need to login with google first time the browser window opens. Don't forget to allow less secure apps: https://support.google.com/accounts/answer/6010255?hl=en"
   ]
  },
  {
   "cell_type": "code",
   "execution_count": null,
   "id": "97376adcafed4820",
   "metadata": {
    "collapsed": false,
    "jupyter": {
     "outputs_hidden": false
    }
   },
   "outputs": [],
   "source": [
    "from agency_swarm import set_openai_key\n",
    "set_openai_key(\"YOUR_OPENAI_API_KEY\")"
   ]
  },
  {
   "cell_type": "code",
   "execution_count": 1,
   "id": "86e2966a4afe3a89",
   "metadata": {
    "collapsed": false,
    "jupyter": {
     "outputs_hidden": false
    }
   },
   "outputs": [],
   "source": [
    "from agency_swarm.agents import BrowsingAgent\n",
    "from agency_swarm import Agency"
   ]
  },
  {
   "cell_type": "code",
   "execution_count": 2,
   "id": "10b3ec1a2bd49658",
   "metadata": {
    "collapsed": false,
    "jupyter": {
     "outputs_hidden": false
    }
   },
   "outputs": [
    {
     "name": "stdout",
     "output_type": "stream",
     "text": [
      "Files folder '/Users/vrsen/Projects/agency-swarm/agency-swarm/agency_swarm/agents/BrowsingAgent/files' is not a directory. Skipping...\n",
      "Schemas folder path is not a directory. Skipping...  /Users/vrsen/Projects/agency-swarm/agency-swarm/agency_swarm/agents/BrowsingAgent/schemas\n"
     ]
    }
   ],
   "source": [
    "browsing_agent = BrowsingAgent(selenium_config={\n",
    "    #\"chrome_profile_path\": \"/Users/vrsen/Library/Application Support/Google/Chrome Canary/Profile 5\", # path to your canary chrome profile\n",
    "    \"headless\": False, # set to True if you don't want to see the browser\n",
    "})"
   ]
  },
  {
   "cell_type": "code",
   "execution_count": 3,
   "id": "5f343de7bd09c6db",
   "metadata": {
    "collapsed": false,
    "jupyter": {
     "outputs_hidden": false
    }
   },
   "outputs": [
    {
     "name": "stdout",
     "output_type": "stream",
     "text": [
      "Updating assistant... BrowsingAgent\n"
     ]
    }
   ],
   "source": [
    "agency = Agency([browsing_agent],shared_instructions=\"\")"
   ]
  },
  {
   "cell_type": "markdown",
   "id": "b5efce7f-e4e0-4360-b56f-d69e2f6a1efe",
   "metadata": {
    "collapsed": false,
    "jupyter": {
     "outputs_hidden": false
    }
   },
   "source": [
    "### Task Instructions:\n",
    "\n",
    "Go to https://www.google.com/recaptcha/api2/demo and use solve captcha tool"
   ]
  },
  {
   "cell_type": "code",
   "execution_count": 4,
   "id": "db538b4b13cdff38",
   "metadata": {
    "collapsed": false,
    "jupyter": {
     "outputs_hidden": false
    }
   },
   "outputs": [
    {
     "name": "stdout",
     "output_type": "stream",
     "text": [
      "Running on local URL:  http://127.0.0.1:7860\n",
      "IMPORTANT: You are using gradio version 4.21.0, however version 4.29.0 is available, please upgrade.\n",
      "--------\n",
      "\n",
      "To create a public link, set `share=True` in `launch()`.\n"
     ]
    },
    {
     "data": {
      "text/html": [
       "<div><iframe src=\"http://127.0.0.1:7860/\" width=\"100%\" height=\"500\" allow=\"autoplay; camera; microphone; clipboard-read; clipboard-write;\" frameborder=\"0\" allowfullscreen></iframe></div>"
      ],
      "text/plain": [
       "<IPython.core.display.HTML object>"
      ]
     },
     "metadata": {},
     "output_type": "display_data"
    },
    {
     "data": {
      "text/plain": [
       "Gradio Blocks instance: 6 backend functions\n",
       "-------------------------------------------\n",
       "fn_index=0\n",
       " inputs:\n",
       " |-textbox\n",
       " |-chatbot\n",
       " outputs:\n",
       " |-textbox\n",
       " |-chatbot\n",
       "fn_index=1\n",
       " inputs:\n",
       " |-textbox\n",
       " |-chatbot\n",
       " outputs:\n",
       " |-textbox\n",
       " |-chatbot\n",
       "fn_index=2\n",
       " inputs:\n",
       " |-dropdown\n",
       " outputs:\n",
       "fn_index=3\n",
       " inputs:\n",
       " |-file\n",
       " outputs:\n",
       "fn_index=4\n",
       " inputs:\n",
       " |-textbox\n",
       " |-chatbot\n",
       " outputs:\n",
       " |-textbox\n",
       " |-chatbot\n",
       "fn_index=5\n",
       " inputs:\n",
       " |-textbox\n",
       " |-chatbot\n",
       " outputs:\n",
       " |-textbox\n",
       " |-chatbot"
      ]
     },
     "execution_count": 4,
     "metadata": {},
     "output_type": "execute_result"
    }
   ],
   "source": [
    "# Reload the notebook each time you run this cell \n",
    "# Additionally, do not change browser window size, or it will not work\n",
    "agency.demo_gradio(height=600)"
   ]
  },
  {
   "cell_type": "code",
   "execution_count": null,
   "id": "73139479",
   "metadata": {},
   "outputs": [],
   "source": []
  }
 ],
 "metadata": {
  "kernelspec": {
   "display_name": "Python 3 (ipykernel)",
   "language": "python",
   "name": "python3"
  },
  "language_info": {
   "codemirror_mode": {
    "name": "ipython",
    "version": 3
   },
   "file_extension": ".py",
   "mimetype": "text/x-python",
   "name": "python",
   "nbconvert_exporter": "python",
   "pygments_lexer": "ipython3",
   "version": "3.10.13"
  }
 },
 "nbformat": 4,
 "nbformat_minor": 5
}
